{
 "cells": [
  {
   "cell_type": "code",
   "execution_count": null,
   "metadata": {},
   "outputs": [
    {
     "ename": "",
     "evalue": "",
     "output_type": "error",
     "traceback": [
      "\u001b[1;31mRunning cells with '.conda (Python 3.8.19)' requires the ipykernel package.\n",
      "\u001b[1;31mRun the following command to install 'ipykernel' into the Python environment. \n",
      "\u001b[1;31mCommand: 'conda install -p c:\\Users\\Nando\\Desktop\\curso de python\\.conda ipykernel --update-deps --force-reinstall'"
     ]
    }
   ],
   "source": [
    "while True:\n",
    "    \n",
    "    print(\"Calculadora Simples:\")\n",
    "    print(\"1 - Adição\")\n",
    "    print(\"2 - Subtração\")\n",
    "    print(\"3 - Multiplicação\")\n",
    "    print(\"4 - Divisão\")\n",
    "    print(\"5 - Sair\")\n",
    "    \n",
    "    escolha = input(\"Escolha uma operação: \")\n",
    "    \n",
    "    if escolha == \"5\":\n",
    "        \n",
    "        print(\"Até mais!\")\n",
    "        \n",
    "        break\n",
    "    \n",
    "    num1 = float(input(\"Digite o primeiro número: \"))\n",
    "    num2 = float(input(\"Digite o segundo número: \"))\n",
    "    \n",
    "    #Adição\n",
    "    if escolha == \"1\":\n",
    "        \n",
    "        resultado = num1 + num2\n",
    "        print(\"Resultado: \", resultado)\n",
    "        \n",
    "     #Subtração\n",
    "    elif escolha == \"2\":\n",
    "        \n",
    "        resultado = num1 - num2\n",
    "        print(\"Resultado: \", resultado)\n",
    "        \n",
    "      #Multiplicação\n",
    "    elif escolha == \"3\":\n",
    "        \n",
    "        resultado = num1 * num2\n",
    "        print(\"Resultado: \", resultado)\n",
    "        \n",
    "      #Divisão\n",
    "    elif escolha == \"4\":\n",
    "        \n",
    "        if num2 != 0:\n",
    "        \n",
    "            resultado = num1 / num2\n",
    "            print(\"Resultado: \", resultado)\n",
    "            \n",
    "        else:\n",
    "            \n",
    "            print(\"ERRO!\")\n",
    "            \n",
    "    else:\n",
    "        \n",
    "        print(\"Opção inválida\")\n",
    "        \n",
    "    "
   ]
  }
 ],
 "metadata": {
  "kernelspec": {
   "display_name": "Python 3",
   "language": "python",
   "name": "python3"
  },
  "language_info": {
   "name": "python",
   "version": "3.8.19"
  }
 },
 "nbformat": 4,
 "nbformat_minor": 2
}
